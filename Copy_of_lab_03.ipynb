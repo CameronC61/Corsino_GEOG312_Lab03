{
  "cells": [
    {
      "cell_type": "markdown",
      "metadata": {
        "id": "cO--iKv9OF2w"
      },
      "source": [
        "[![image](https://colab.research.google.com/assets/colab-badge.svg)](https://colab.research.google.com/github/giswqs/geog-312/blob/master/labs/lab_03.ipynb)\n",
        "[![image](https://binder.pangeo.io/badge_logo.svg)](https://gishub.org/geog312-pangeo)"
      ]
    },
    {
      "cell_type": "markdown",
      "metadata": {
        "id": "j8xvAjoPOF2y"
      },
      "source": [
        "**Cameron Corsino**"
      ]
    },
    {
      "cell_type": "code",
      "execution_count": null,
      "metadata": {
        "id": "CWH2PJX8OF2y",
        "outputId": "c8941744-6836-4ec5-9713-9150ee70ebe0",
        "colab": {
          "base_uri": "https://localhost:8080/"
        }
      },
      "outputs": [
        {
          "output_type": "stream",
          "name": "stdout",
          "text": [
            "Submitted time: 2023-09-23 13:26:40.568366\n"
          ]
        }
      ],
      "source": [
        "from datetime import datetime\n",
        "\n",
        "now = datetime.now()\n",
        "print(f\"Submitted time: {now}\")"
      ]
    },
    {
      "cell_type": "markdown",
      "metadata": {
        "id": "kkkZWfzbOF2z"
      },
      "source": [
        "## Question 1\n",
        "**Pizzas:** Think of at least three kinds of your favorite pizza. Store these pizza names in a list, and then use a for loop to print the name of each pizza.\n",
        "\n",
        "Modify your for loop to print a sentence using the name of the pizza instead of printing just the name of the pizza. For each pizza you should have one line of output containing a simple statement like *I like pepperoni pizza.*"
      ]
    },
    {
      "cell_type": "code",
      "execution_count": null,
      "metadata": {
        "colab": {
          "base_uri": "https://localhost:8080/"
        },
        "id": "U01TOw-bOF2z",
        "outputId": "331db1d6-b1be-4d02-a9d5-688aea2a3b99"
      },
      "outputs": [
        {
          "output_type": "stream",
          "name": "stdout",
          "text": [
            "Cheese Pizza\n",
            "I love Cheese Pizza\n",
            "Hamburger Pizza\n",
            "I love Hamburger Pizza\n",
            "four-cheese pizza\n",
            "I love four-cheese pizza\n"
          ]
        }
      ],
      "source": [
        "Pizza_type = ['Cheese Pizza','Hamburger Pizza','four-cheese pizza']\n",
        "for x in Pizza_type:\n",
        "  print(x)\n",
        "  pizza = f\"{Pizza_type}\"\n",
        "  message = f'I love {x}'\n",
        "  print(message)"
      ]
    },
    {
      "cell_type": "markdown",
      "metadata": {
        "id": "8BXsEA4COF2z"
      },
      "source": [
        "Add a line at the end of your program, outside the for loop, that states how much you like pizza. The output should consist of three or more lines about the kinds of pizza you like and then an additional sentence, such as *I really love pizza!*"
      ]
    },
    {
      "cell_type": "code",
      "execution_count": null,
      "metadata": {
        "id": "4wrEUS_FOF2z",
        "outputId": "71e43fe9-3516-4566-bf44-65979739a9a9",
        "colab": {
          "base_uri": "https://localhost:8080/"
        }
      },
      "outputs": [
        {
          "output_type": "stream",
          "name": "stdout",
          "text": [
            "four-cheese pizza is my favorite food.\n"
          ]
        }
      ],
      "source": [
        "  message_1 = f'{Pizza_type[2]} is my favorite food.'\n",
        "  print(message_1)\n"
      ]
    },
    {
      "cell_type": "markdown",
      "metadata": {
        "id": "6HZMVY5aOF2z"
      },
      "source": [
        "## Question 2\n",
        "**Animals:** Think of at least three different animals that have a common characteristic. Store the names of these animals in a list, and then use a for loop to print out the name of each animal.\n",
        "\n",
        "Modify your program to print a statement about each animal, such as *A dog would make a great pet.*"
      ]
    },
    {
      "cell_type": "code",
      "execution_count": null,
      "metadata": {
        "outputId": "0d813f29-e61b-4c1e-876c-a107617f0fd2",
        "colab": {
          "base_uri": "https://localhost:8080/"
        },
        "id": "b0HeuytbSWeW"
      },
      "outputs": [
        {
          "output_type": "stream",
          "name": "stdout",
          "text": [
            "Hawk\n",
            "Eagle\n",
            "Cardinal\n",
            "A Hawk is a vicious predator\n",
            "I saw an Eagle at the zoo.\n",
            "A Cardinal was on my roof.\n"
          ]
        }
      ],
      "source": [
        "Animal = ['Hawk','Eagle','Cardinal']\n",
        "for x in Animal:\n",
        "    print(x)\n",
        "    bird = f\"{Animal}\"\n",
        "\n",
        "message = f'A {Animal[0]} is a vicious predator'\n",
        "print(message)\n",
        "message_1 = f'I saw an {Animal[1]} at the zoo.'\n",
        "message_2 = f'A {Animal[2]} was on my roof.'\n",
        "print(message_1)\n",
        "print(message_2)"
      ]
    },
    {
      "cell_type": "markdown",
      "metadata": {
        "id": "910bYRKbOF20"
      },
      "source": [
        "Add a line at the end of your program stating what these animals have in common. You could print a sentence such as *Any of these animals would make a great pet!*"
      ]
    },
    {
      "cell_type": "code",
      "execution_count": null,
      "metadata": {
        "id": "7ZtEeR1wOF20",
        "outputId": "287d2a06-8182-422e-8baa-2ad7c6bfb63c",
        "colab": {
          "base_uri": "https://localhost:8080/"
        }
      },
      "outputs": [
        {
          "output_type": "stream",
          "name": "stdout",
          "text": [
            "A Hawk, Eagle, and Cardinal are all birds.\n"
          ]
        }
      ],
      "source": [
        "message = f'A {Animal[0]}, {Animal[1]}, and {Animal[2]} are all birds.'\n",
        "print(message)"
      ]
    },
    {
      "cell_type": "markdown",
      "metadata": {
        "id": "h58Hzu73OF20"
      },
      "source": [
        "## Question 3\n",
        "**Counting to Twenty:** Use a for loop to print the numbers from 1 to 20, inclusive."
      ]
    },
    {
      "cell_type": "code",
      "execution_count": 1,
      "metadata": {
        "id": "7nJ5iMC0OF20",
        "outputId": "2ac58ea0-16d1-4840-c8ab-d29c0350407a",
        "colab": {
          "base_uri": "https://localhost:8080/"
        }
      },
      "outputs": [
        {
          "output_type": "stream",
          "name": "stdout",
          "text": [
            "1\n",
            "2\n",
            "3\n",
            "4\n",
            "5\n",
            "6\n",
            "7\n",
            "8\n",
            "9\n",
            "10\n",
            "11\n",
            "12\n",
            "13\n",
            "14\n",
            "15\n",
            "16\n",
            "17\n",
            "18\n",
            "19\n",
            "20\n"
          ]
        }
      ],
      "source": [
        "for value in range(1,21):\n",
        "    print(value)"
      ]
    },
    {
      "cell_type": "markdown",
      "metadata": {
        "id": "yJDgtHi1OF20"
      },
      "source": [
        "## Question 4\n",
        "**One Hundred:** Make a list of the numbers from one to one hundred, and then use a for loop to print the numbers."
      ]
    },
    {
      "cell_type": "code",
      "execution_count": 9,
      "metadata": {
        "id": "p8DpLrZBOF20",
        "outputId": "9d40f476-dded-41bf-926f-3290f52a5b85",
        "colab": {
          "base_uri": "https://localhost:8080/"
        }
      },
      "outputs": [
        {
          "output_type": "stream",
          "name": "stdout",
          "text": [
            "1\n",
            "2\n",
            "3\n",
            "4\n",
            "5\n",
            "6\n",
            "7\n",
            "8\n",
            "9\n",
            "10\n",
            "11\n",
            "12\n",
            "13\n",
            "14\n",
            "15\n",
            "16\n",
            "17\n",
            "18\n",
            "19\n",
            "20\n",
            "21\n",
            "22\n",
            "23\n",
            "24\n",
            "25\n",
            "26\n",
            "27\n",
            "28\n",
            "29\n",
            "30\n",
            "31\n",
            "32\n",
            "33\n",
            "34\n",
            "35\n",
            "36\n",
            "37\n",
            "38\n",
            "39\n",
            "40\n",
            "41\n",
            "42\n",
            "43\n",
            "44\n",
            "45\n",
            "46\n",
            "47\n",
            "48\n",
            "49\n",
            "50\n",
            "51\n",
            "52\n",
            "53\n",
            "54\n",
            "55\n",
            "56\n",
            "57\n",
            "58\n",
            "59\n",
            "60\n",
            "61\n",
            "62\n",
            "63\n",
            "64\n",
            "65\n",
            "66\n",
            "67\n",
            "68\n",
            "69\n",
            "70\n",
            "71\n",
            "72\n",
            "73\n",
            "74\n",
            "75\n",
            "76\n",
            "77\n",
            "78\n",
            "79\n",
            "80\n",
            "81\n",
            "82\n",
            "83\n",
            "84\n",
            "85\n",
            "86\n",
            "87\n",
            "88\n",
            "89\n",
            "90\n",
            "91\n",
            "92\n",
            "93\n",
            "94\n",
            "95\n",
            "96\n",
            "97\n",
            "98\n",
            "99\n",
            "100\n"
          ]
        }
      ],
      "source": [
        "for value in range (1,101):\n",
        " print(value)"
      ]
    },
    {
      "cell_type": "markdown",
      "metadata": {
        "id": "YO4AqHbfOF20"
      },
      "source": [
        "## Question 5\n",
        "**Summing a Hundred:** Make a list of the numbers from one to one million, and then use `min()` and `max()` to make sure your list actually starts at one and ends at one hundred. Also, use the sum() function to see how quickly Python can add a hundred numbers."
      ]
    },
    {
      "cell_type": "code",
      "execution_count": null,
      "metadata": {
        "id": "3HUv7O0mOF20"
      },
      "outputs": [],
      "source": []
    },
    {
      "cell_type": "code",
      "execution_count": 27,
      "metadata": {
        "id": "rpmt8KC3OF20",
        "colab": {
          "base_uri": "https://localhost:8080/"
        },
        "outputId": "9ebba945-f727-4124-d755-43645f62209b"
      },
      "outputs": [
        {
          "output_type": "stream",
          "name": "stdout",
          "text": [
            "1\n",
            "100\n",
            "5050\n"
          ]
        }
      ],
      "source": [
        "numbers = list(range(1,101))\n",
        "print(min(numbers))\n",
        "print(max(numbers))\n",
        "print(sum(numbers))"
      ]
    },
    {
      "cell_type": "markdown",
      "metadata": {
        "id": "hTYmsMGvOF20"
      },
      "source": [
        "## Question 6\n",
        "**Odd Numbers:** Use the third argument of the `range()` function to make a list of the odd numbers from 1 to 20. Use a `for` loop to print each number."
      ]
    },
    {
      "cell_type": "code",
      "source": [
        "for value in range(1,20,2):\n",
        "  print(value)"
      ],
      "metadata": {
        "colab": {
          "base_uri": "https://localhost:8080/"
        },
        "id": "JmHxOmg-ejB-",
        "outputId": "8fed1f72-40f1-4633-c815-a6b9f64c96ec"
      },
      "execution_count": 43,
      "outputs": [
        {
          "output_type": "stream",
          "name": "stdout",
          "text": [
            "1\n",
            "3\n",
            "5\n",
            "7\n",
            "9\n",
            "11\n",
            "13\n",
            "15\n",
            "17\n",
            "19\n"
          ]
        }
      ]
    },
    {
      "cell_type": "markdown",
      "metadata": {
        "id": "ZrTdbBw2OF21"
      },
      "source": [
        "## Question 7\n",
        "**Threes:** Make a list of the multiples of 3 from 3 to 30. Use a `for` loop to print the numbers in your list."
      ]
    },
    {
      "cell_type": "code",
      "execution_count": 24,
      "metadata": {
        "id": "6C7ipE2IOF21",
        "colab": {
          "base_uri": "https://localhost:8080/"
        },
        "outputId": "9b48d54d-83e6-42a2-ffb5-0c9e8b071bd7"
      },
      "outputs": [
        {
          "output_type": "stream",
          "name": "stdout",
          "text": [
            "3\n",
            "6\n",
            "9\n",
            "12\n",
            "15\n",
            "18\n",
            "21\n",
            "24\n",
            "27\n",
            "30\n"
          ]
        }
      ],
      "source": [
        "threes = list(range(3,31,3))\n",
        "for number in threes:\n",
        "  print(number)"
      ]
    },
    {
      "cell_type": "markdown",
      "metadata": {
        "id": "ucxRczxAOF21"
      },
      "source": [
        "## Question 8\n",
        "**Cubes:** A number raised to the third power is called a cube. For example, the cube of 2 is written as 2 ** 3 in Python. Make a list of the first 10 cubes (that is, the cube of each integer from 1 through 10), and use a for loop to print out the value of each cube."
      ]
    },
    {
      "cell_type": "code",
      "execution_count": 23,
      "metadata": {
        "id": "X7BLhWySOF21",
        "colab": {
          "base_uri": "https://localhost:8080/"
        },
        "outputId": "b6ee3462-179a-469f-aaf6-14bbcecddad8"
      },
      "outputs": [
        {
          "output_type": "stream",
          "name": "stdout",
          "text": [
            "1\n",
            "8\n",
            "27\n",
            "64\n",
            "125\n",
            "216\n",
            "343\n",
            "512\n",
            "729\n",
            "1000\n"
          ]
        }
      ],
      "source": [
        "cubes = []\n",
        "for number in range(1,11):\n",
        "  cube = number**3\n",
        "  cubes.append(cube)\n",
        "for cube in cubes:\n",
        "    print(cube)"
      ]
    },
    {
      "cell_type": "markdown",
      "metadata": {
        "id": "cxEPtzVSOF21"
      },
      "source": [
        "## Question 9\n",
        "**Cube Comprehension:** Use a list comprehension to generate a list of the first 10 cubes."
      ]
    },
    {
      "cell_type": "code",
      "execution_count": 12,
      "metadata": {
        "id": "oTnCZnWhOF21",
        "colab": {
          "base_uri": "https://localhost:8080/"
        },
        "outputId": "d98580df-5c3f-4245-fb29-d7f800451489"
      },
      "outputs": [
        {
          "output_type": "stream",
          "name": "stdout",
          "text": [
            "1\n",
            "8\n",
            "27\n",
            "64\n",
            "125\n",
            "216\n",
            "343\n",
            "512\n",
            "729\n",
            "1000\n"
          ]
        }
      ],
      "source": [
        "cubes = [number** 3 for number in range(1,11)]\n",
        "for cube in cubes:\n",
        "  print(cube)"
      ]
    },
    {
      "cell_type": "markdown",
      "metadata": {
        "id": "yktNDYaMOF21"
      },
      "source": [
        "## Question 10\n",
        "**Slices:** Using one of the programs you wrote in this lab, add several lines to the end of the program that do the following:\n",
        "\n",
        "Print the message *The first three items in the list are:*. Then use a slice to print the first three items from that program’s list."
      ]
    },
    {
      "cell_type": "code",
      "execution_count": 55,
      "metadata": {
        "id": "QqSXGwZ0OF21",
        "colab": {
          "base_uri": "https://localhost:8080/"
        },
        "outputId": "23ab402a-68fc-4b08-b585-ea5ab7a93e41"
      },
      "outputs": [
        {
          "output_type": "stream",
          "name": "stdout",
          "text": [
            "The first three items in the list are:\n",
            "('steak tips', 'dinner rolls', 'grilled chicken')\n"
          ]
        }
      ],
      "source": [
        "basic_food = ('steak tips','dinner rolls','grilled chicken','spaghetti & meatballs','meatloaf')\n",
        "message = 'The first three items in the list are:'\n",
        "print(message)\n",
        "print(basic_food[0:3])\n"
      ]
    },
    {
      "cell_type": "markdown",
      "metadata": {
        "id": "eJiODrkUOF21"
      },
      "source": [
        "Print the message *Three items from the middle of the list are:*. Use a slice to print three items from the middle of the list."
      ]
    },
    {
      "cell_type": "code",
      "execution_count": 57,
      "metadata": {
        "id": "foJDzhxjOF21",
        "colab": {
          "base_uri": "https://localhost:8080/"
        },
        "outputId": "8b45c869-bf2c-4e29-da55-dd63ac5c32ac"
      },
      "outputs": [
        {
          "output_type": "stream",
          "name": "stdout",
          "text": [
            "The middle three items in the list are:\n",
            "('dinner rolls', 'grilled chicken', 'spaghetti & meatballs')\n"
          ]
        }
      ],
      "source": [
        "basic_food = ('steak tips','dinner rolls','grilled chicken','spaghetti & meatballs','meatloaf')\n",
        "message = 'The middle three items in the list are:'\n",
        "print(message)\n",
        "print(basic_food[1:4])"
      ]
    },
    {
      "cell_type": "markdown",
      "metadata": {
        "id": "eStWYj9AOF21"
      },
      "source": [
        "Print the message *The last three items in the list are:*. Use a slice to print the last three items in the list."
      ]
    },
    {
      "cell_type": "code",
      "execution_count": 59,
      "metadata": {
        "id": "yligB2I4OF21",
        "colab": {
          "base_uri": "https://localhost:8080/"
        },
        "outputId": "13644b2e-2a9e-41f6-c484-8f9bcd71a071"
      },
      "outputs": [
        {
          "output_type": "stream",
          "name": "stdout",
          "text": [
            "The last three items in the list are:\n",
            "('grilled chicken', 'spaghetti & meatballs', 'meatloaf')\n"
          ]
        }
      ],
      "source": [
        "basic_food = ('steak tips','dinner rolls','grilled chicken','spaghetti & meatballs','meatloaf')\n",
        "message = 'The last three items in the list are:'\n",
        "print(message)\n",
        "print(basic_food[2:5])"
      ]
    },
    {
      "cell_type": "markdown",
      "metadata": {
        "id": "6uwCkxcaOF21"
      },
      "source": [
        "## Question 11\n",
        "**My Pizzas, Your Pizzas:** Start with your program from Question 1. Make a copy of the list of pizzas, and call it friend_pizzas. Then, do the following:\n",
        "\n",
        "Add a new pizza to the original list."
      ]
    },
    {
      "cell_type": "code",
      "execution_count": null,
      "metadata": {
        "id": "KNoC98YdOF21"
      },
      "outputs": [],
      "source": [
        "pizza_types = ['Cheese','Hamburger','four-cheese','Margherita']"
      ]
    },
    {
      "cell_type": "markdown",
      "metadata": {
        "id": "fQhHl8CEOF21"
      },
      "source": [
        "Add a different pizza to the list `friend_pizzas`."
      ]
    },
    {
      "cell_type": "code",
      "execution_count": null,
      "metadata": {
        "id": "IneqV0uSOF21"
      },
      "outputs": [],
      "source": [
        "friend_pizzas = ['Cheese','Hamburger','four-cheese','Margherita','Pepperoni']"
      ]
    },
    {
      "cell_type": "markdown",
      "metadata": {
        "id": "55rXCOTIOF21"
      },
      "source": [
        "Prove that you have two separate lists. Print the message *My favorite pizzas are:*, and then use a for loop to print the first list. Print the message *My friend’s favorite pizzas are:*, and then use a for loop to print the second list. Make sure each new pizza is stored in the appropriate list."
      ]
    },
    {
      "cell_type": "code",
      "execution_count": 33,
      "metadata": {
        "id": "siGtDBuvOF21",
        "colab": {
          "base_uri": "https://localhost:8080/"
        },
        "outputId": "172057ad-2729-4a5a-f034-c7226bc32443"
      },
      "outputs": [
        {
          "output_type": "stream",
          "name": "stdout",
          "text": [
            "my favorite pizzas are:\n",
            "-Cheese\n",
            "-Hamburger\n",
            "-four-cheese\n",
            "-Margherita\n",
            "\n",
            "My friend's favorite pizzas are:\n",
            "-Cheese\n",
            "-Hamburger\n",
            "-four-cheese\n",
            "-Pepperoni\n"
          ]
        }
      ],
      "source": [
        "pizza_types = ['Cheese','Hamburger','four-cheese','Margherita']\n",
        "friend_pizzas = ['Cheese','Hamburger','four-cheese','Pepperoni']\n",
        "print(\"my favorite pizzas are:\")\n",
        "for pizza in pizza_types:\n",
        "  print(\"-\"+pizza)\n",
        "\n",
        "print(\"\\nMy friend's favorite pizzas are:\")\n",
        "for pizza in friend_pizzas:\n",
        "  print(\"-\"+pizza)"
      ]
    },
    {
      "cell_type": "markdown",
      "metadata": {
        "id": "4Rgz_EsROF21"
      },
      "source": [
        "## Question 12\n",
        "**Buffet:** A buffet-style restaurant offers only five basic foods. Think of five simple foods, and store them in a tuple.\n",
        "\n",
        "Use a for loop to print each food the restaurant offers."
      ]
    },
    {
      "cell_type": "code",
      "execution_count": 38,
      "metadata": {
        "id": "vQYkv1UvOF21",
        "colab": {
          "base_uri": "https://localhost:8080/"
        },
        "outputId": "96260989-d775-44cb-9b9b-2e4990b6a554"
      },
      "outputs": [
        {
          "output_type": "stream",
          "name": "stdout",
          "text": [
            "steak tips\n",
            "dinner rolls\n",
            "grilled chicken\n",
            "spaghetti & meatballs\n",
            "meatloaf\n"
          ]
        }
      ],
      "source": [
        "basic_food = ('steak tips','dinner rolls','grilled chicken','spaghetti & meatballs','meatloaf')\n",
        "for food in basic_food:\n",
        "  print(food)"
      ]
    },
    {
      "cell_type": "markdown",
      "metadata": {
        "id": "PjBukqTfOF24"
      },
      "source": [
        "Try to modify one of the items, and make sure that Python rejects the change."
      ]
    },
    {
      "cell_type": "code",
      "execution_count": 39,
      "metadata": {
        "id": "x9nLQQFfOF25",
        "colab": {
          "base_uri": "https://localhost:8080/"
        },
        "outputId": "17fff9fc-5c37-4839-b23b-a063bad3b2d8"
      },
      "outputs": [
        {
          "output_type": "stream",
          "name": "stdout",
          "text": [
            "steak tips\n",
            "dinner rolls\n",
            "grilled chicken\n",
            "spaghetti & meatballs\n",
            "chicken parm\n"
          ]
        }
      ],
      "source": [
        "basic_food = ('steak tips','dinner rolls','grilled chicken','spaghetti & meatballs','chicken parm')\n",
        "for food in basic_food:\n",
        "  print(food)"
      ]
    },
    {
      "cell_type": "markdown",
      "metadata": {
        "id": "qiooxA2sOF25"
      },
      "source": [
        "The restaurant changes its menu, replacing two of the items with different foods. Add a line that rewrites the tuple, and then use a for loop to print each of the items on the revised menu."
      ]
    },
    {
      "cell_type": "code",
      "execution_count": 40,
      "metadata": {
        "id": "A1JeGtQXOF25",
        "colab": {
          "base_uri": "https://localhost:8080/"
        },
        "outputId": "4aa1444d-6b32-46d7-89de-72f73cb6972a"
      },
      "outputs": [
        {
          "output_type": "stream",
          "name": "stdout",
          "text": [
            "steak tips\n",
            "dinner rolls\n",
            "grilled chicken\n",
            "shrimp\n",
            "chicken parm\n"
          ]
        }
      ],
      "source": [
        "basic_food = ('steak tips','dinner rolls','grilled chicken','spaghetti & meatballs','meatloaf')\n",
        "basic_food_new = ('steak tips','dinner rolls','grilled chicken','shrimp','chicken parm')\n",
        "for food in basic_food_new:\n",
        "  print(food)"
      ]
    }
  ],
  "metadata": {
    "kernelspec": {
      "display_name": "Python 3 (ipykernel)",
      "language": "python",
      "name": "python3"
    },
    "language_info": {
      "codemirror_mode": {
        "name": "ipython",
        "version": 3
      },
      "file_extension": ".py",
      "mimetype": "text/x-python",
      "name": "python",
      "nbconvert_exporter": "python",
      "pygments_lexer": "ipython3",
      "version": "3.8.10"
    },
    "colab": {
      "provenance": []
    }
  },
  "nbformat": 4,
  "nbformat_minor": 0
}